{
 "cells": [
  {
   "cell_type": "code",
   "execution_count": 1,
   "metadata": {},
   "outputs": [],
   "source": [
    "import requests\n",
    "import pandas as pd\n",
    "import json\n",
    "\n",
    "X = pd.read_csv(\"./app/test/X_head\", index_col=0)\n",
    "y = pd.read_csv(\"./app/test/y_head\", index_col=0)\n",
    "\n",
    "X1 = X.head(1)"
   ]
  },
  {
   "cell_type": "code",
   "execution_count": 7,
   "metadata": {},
   "outputs": [
    {
     "name": "stdout",
     "output_type": "stream",
     "text": [
      "Status code:  200\n",
      "Response content:  [[0.0, 0.7011120909118069, 0.298887909088193]]\n"
     ]
    }
   ],
   "source": [
    "# Convert the DataFrame to a JSON string\n",
    "data = X1.to_json(orient='split')\n",
    "\n",
    "\n",
    "# Send a POST request to the Flask app on the EC2 instance\n",
    "response = requests.post('http://13.48.149.160/predict', data=data)\n",
    "\n",
    "#local testing start the app on local first\n",
    "#response = requests.post('http://127.0.0.1:5001/predict', data=data)\n",
    "\n",
    "\n",
    "print(\"Status code: \", response.status_code)\n",
    "print(\"Response content: \", response.json())\n",
    "\n",
    "\n",
    "# Print the prediction"
   ]
  },
  {
   "cell_type": "code",
   "execution_count": 6,
   "metadata": {},
   "outputs": [
    {
     "name": "stdout",
     "output_type": "stream",
     "text": [
      "Status code:  200\n",
      "Response content:  4.1\n"
     ]
    }
   ],
   "source": [
    "#get the model dataset version:\n",
    "\n",
    "response = requests.get('http://13.48.149.160/version')\n",
    "#response = requests.get('http://127.0.0.1:5001/version')\n",
    "print(\"Status code: \", response.status_code)\n",
    "print(\"Response content: \", response.json())"
   ]
  },
  {
   "cell_type": "code",
   "execution_count": 5,
   "metadata": {},
   "outputs": [
    {
     "name": "stdout",
     "output_type": "stream",
     "text": [
      "Status code:  200\n",
      "Response content:  {'message': 'Model updated successfully.'}\n"
     ]
    }
   ],
   "source": [
    "model_id = \"e144dc8942db42d69aa7f5aebf036a01\"\n",
    "\n",
    "# Create data for the POST request\n",
    "data = {\n",
    "    \"model_id\": model_id\n",
    "}\n",
    "\n",
    "\n",
    "# Send a POST request to the Flask app on the EC2 instance\n",
    "response = requests.post('http://13.48.149.160/new_model', data=json.dumps(data), headers={'Content-Type': 'application/json'})\n",
    "\n",
    "#local testing start the app on local first\n",
    "#response = requests.post('http://127.0.0.1:5001/new_model', data=json.dumps(data), headers={'Content-Type': 'application/json'})\n",
    "\n",
    "print(\"Status code: \", response.status_code)\n",
    "print(\"Response content: \", response.json())"
   ]
  }
 ],
 "metadata": {
  "kernelspec": {
   "display_name": "py10",
   "language": "python",
   "name": "python3"
  },
  "language_info": {
   "codemirror_mode": {
    "name": "ipython",
    "version": 3
   },
   "file_extension": ".py",
   "mimetype": "text/x-python",
   "name": "python",
   "nbconvert_exporter": "python",
   "pygments_lexer": "ipython3",
   "version": "3.10.12"
  },
  "orig_nbformat": 4
 },
 "nbformat": 4,
 "nbformat_minor": 2
}
