{
 "cells": [
  {
   "cell_type": "code",
   "execution_count": 1,
   "metadata": {},
   "outputs": [],
   "source": [
    "import requests\n",
    "import pandas as pd\n",
    "import json\n",
    "\n",
    "X = pd.read_csv(\"./app/test/X_head\", index_col=0)\n",
    "y = pd.read_csv(\"./app/test/y_head\", index_col=0)\n",
    "\n",
    "X1 = X.head(1)"
   ]
  },
  {
   "cell_type": "code",
   "execution_count": 1,
   "metadata": {},
   "outputs": [],
   "source": [
    "api_ipv4 = '3.126.2.101'"
   ]
  },
  {
   "cell_type": "code",
   "execution_count": 16,
   "metadata": {},
   "outputs": [
    {
     "name": "stdout",
     "output_type": "stream",
     "text": [
      "Status code:  200\n",
      "Response content:  [[1.0, 0.035816294380024205, 0.9641837056199758]]\n"
     ]
    }
   ],
   "source": [
    "\n",
    "data = X1.to_json(orient='records')\n",
    "headers = {'Content-type': 'application/json'}\n",
    "\n",
    "response = requests.post(f'http://{api_ipv4}/predict', data=data, headers=headers)\n",
    "\n",
    "#local testing start the app on local first\n",
    "#response = requests.post('http://127.0.0.1:5001/predict', data=data, headers=headers)\n",
    "\n",
    "print(\"Status code: \", response.status_code)\n",
    "print(\"Response content: \", response.json())\n"
   ]
  },
  {
   "cell_type": "code",
   "execution_count": 18,
   "metadata": {},
   "outputs": [
    {
     "name": "stdout",
     "output_type": "stream",
     "text": [
      "Status code:  200\n",
      "Response content:  2.0\n"
     ]
    }
   ],
   "source": [
    "#get the model dataset version:\n",
    "\n",
    "response = requests.get(f'http://{api_ipv4}/version')\n",
    "#response = requests.get('http://127.0.0.1:5001/version')\n",
    "print(\"Status code: \", response.status_code)\n",
    "print(\"Response content: \", response.json())"
   ]
  },
  {
   "cell_type": "code",
   "execution_count": 14,
   "metadata": {},
   "outputs": [
    {
     "name": "stdout",
     "output_type": "stream",
     "text": [
      "Status code:  200\n",
      "Response content:  0.1\n"
     ]
    }
   ],
   "source": [
    "#response = requests.get(f'http://{api_ipv4}/threshold')\n",
    "response = requests.get('http://127.0.0.1:5001/threshold')\n",
    "print(\"Status code: \", response.status_code)\n",
    "print(\"Response content: \", response.json())"
   ]
  },
  {
   "cell_type": "code",
   "execution_count": 17,
   "metadata": {},
   "outputs": [],
   "source": [
    "response = requests.get(f'http://{api_ipv4}/global_importance')\n",
    "if response.status_code == 200:\n",
    "    with open(\"Dashboard/assets/shap_summary.png\", \"wb\") as f:\n",
    "        f.write(response.content)"
   ]
  },
  {
   "cell_type": "code",
   "execution_count": 4,
   "metadata": {},
   "outputs": [],
   "source": [
    "\n",
    "data = X1.to_json(orient='records')\n",
    "headers = {'Content-type': 'application/json'}\n",
    "response = requests.post('http://127.0.0.1:5001/get_local_importance', data=data, headers=headers)\n",
    "if response.status_code == 200:\n",
    "    with open(\"./Exports/local_importance.html\", \"wb\") as f:\n",
    "        f.write(response.content)"
   ]
  },
  {
   "cell_type": "code",
   "execution_count": null,
   "metadata": {},
   "outputs": [],
   "source": [
    "\n",
    "response = requests.get(f'http://{api_ipv4}/version')\n",
    "\n",
    "print(\"Response content: \", response.json())"
   ]
  }
 ],
 "metadata": {
  "kernelspec": {
   "display_name": "py10",
   "language": "python",
   "name": "python3"
  },
  "language_info": {
   "codemirror_mode": {
    "name": "ipython",
    "version": 3
   },
   "file_extension": ".py",
   "mimetype": "text/x-python",
   "name": "python",
   "nbconvert_exporter": "python",
   "pygments_lexer": "ipython3",
   "version": "3.10.12"
  },
  "orig_nbformat": 4
 },
 "nbformat": 4,
 "nbformat_minor": 2
}
