{
 "cells": [
  {
   "cell_type": "code",
   "execution_count": null,
   "metadata": {},
   "outputs": [],
   "source": [
    "import requests\n",
    "import pandas as pd"
   ]
  },
  {
   "cell_type": "code",
   "execution_count": null,
   "metadata": {},
   "outputs": [],
   "source": [
    "col_description = pd.read_csv('./HomeCredit_columns_description.csv', encoding='ISO-8859-1', index_col=0)\n",
    "\n"
   ]
  },
  {
   "cell_type": "code",
   "execution_count": 50,
   "metadata": {},
   "outputs": [
    {
     "data": {
      "text/plain": [
       "'ID of loan in our sample'"
      ]
     },
     "execution_count": 50,
     "metadata": {},
     "output_type": "execute_result"
    }
   ],
   "source": [
    "col_description[col_description['Row']=='SK_ID_CURR']['Description'][1]"
   ]
  },
  {
   "cell_type": "code",
   "execution_count": null,
   "metadata": {},
   "outputs": [],
   "source": [
    "def prepare_data_for_model(df, dataset_version:str):\n",
    "\n",
    "    if dataset_version == '2.0':\n",
    "        df.columns = df.columns.str.replace('[^\\w\\s]','')\n",
    "        not_usable_col = ['TARGET','SK_ID_CURR','SK_ID_BUREAU','SK_ID_PREV','index']\n",
    "        df.drop(columns='level_0', inplace=True)\n",
    "        columns_X = [col for col in df.columns if col not in not_usable_col]\n",
    "        df = df[columns_X]\n",
    "    return df"
   ]
  },
  {
   "cell_type": "code",
   "execution_count": null,
   "metadata": {},
   "outputs": [],
   "source": [
    "train_data = pd.read_csv(\"./sampled_train_data.csv\", index_col=0)"
   ]
  },
  {
   "cell_type": "code",
   "execution_count": null,
   "metadata": {},
   "outputs": [],
   "source": [
    "X1 = train_data[train_data['SK_ID_CURR'] == 30742]"
   ]
  },
  {
   "cell_type": "code",
   "execution_count": null,
   "metadata": {},
   "outputs": [],
   "source": [
    "X1 = prepare_data_for_model(X1, '2.0')\n",
    "X1"
   ]
  },
  {
   "cell_type": "code",
   "execution_count": null,
   "metadata": {},
   "outputs": [],
   "source": [
    "#get the model dataset version:\n",
    "response = requests.get('http://127.0.0.1:5001/threshold')\n",
    "print(\"Status code: \", response.status_code)\n",
    "print(\"Response content: \", response.json())"
   ]
  },
  {
   "cell_type": "code",
   "execution_count": null,
   "metadata": {},
   "outputs": [],
   "source": [
    "#Get global_importance png\n",
    "response = requests.get('http://127.0.0.1:5001/global_importance')\n",
    "if response.status_code == 200:\n",
    "    with open(\"shap_summary.png\", \"wb\") as f:\n",
    "        f.write(response.content)"
   ]
  },
  {
   "cell_type": "code",
   "execution_count": null,
   "metadata": {},
   "outputs": [],
   "source": [
    "#Get the predict_proba out put is in form of :\n",
    "#[[0.0, 0.14061783578431664, 0.8593821642156834]] class prediction, %of class 0, % of class1\n",
    "\n",
    "data = X1.to_json(orient='records')\n",
    "headers = {'Content-type': 'application/json'}\n",
    "response = requests.post('http://127.0.0.1:5001/predict', data=data, headers=headers)\n",
    "\n",
    "print(\"Response content: \", response.json())"
   ]
  },
  {
   "cell_type": "code",
   "execution_count": null,
   "metadata": {},
   "outputs": [],
   "source": [
    "#Get the force plot as an html file\n",
    "data = X1.to_json(orient='records')\n",
    "headers = {'Content-type': 'application/json'}\n",
    "response = requests.post('http://127.0.0.1:5001/get_local_importance', data=data, headers=headers)\n",
    "\n",
    "if response.status_code == 200:\n",
    "    with open(\"local_importance.html\", \"wb\") as f:\n",
    "        f.write(response.content)\n"
   ]
  }
 ],
 "metadata": {
  "kernelspec": {
   "display_name": "py10",
   "language": "python",
   "name": "python3"
  },
  "language_info": {
   "codemirror_mode": {
    "name": "ipython",
    "version": 3
   },
   "file_extension": ".py",
   "mimetype": "text/x-python",
   "name": "python",
   "nbconvert_exporter": "python",
   "pygments_lexer": "ipython3",
   "version": "3.10.12"
  },
  "orig_nbformat": 4
 },
 "nbformat": 4,
 "nbformat_minor": 2
}
