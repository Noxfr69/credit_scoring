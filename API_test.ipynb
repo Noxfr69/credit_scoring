{
 "cells": [
  {
   "cell_type": "code",
   "execution_count": 1,
   "metadata": {},
   "outputs": [],
   "source": [
    "import requests\n",
    "import pandas as pd\n",
    "import json\n",
    "\n",
    "X = pd.read_csv(\"./app/test/X_head\", index_col=0)\n",
    "y = pd.read_csv(\"./app/test/y_head\", index_col=0)\n"
   ]
  },
  {
   "cell_type": "code",
   "execution_count": 6,
   "metadata": {},
   "outputs": [
    {
     "name": "stdout",
     "output_type": "stream",
     "text": [
      "Status code:  200\n",
      "Response content:  [0.0, 1.0, 0.0, 1.0, 0.0]\n"
     ]
    }
   ],
   "source": [
    "# Convert the DataFrame to a JSON string\n",
    "data = X.to_json(orient='split')\n",
    "\n",
    "\n",
    "# Send a POST request to the Flask app on the EC2 instance\n",
    "response = requests.post('http://16.170.219.216/predict', data=data)\n",
    "\n",
    "#local testing start the app on local first\n",
    "#response = requests.post('http://127.0.0.1:5001/predict', data=data)\n",
    "\n",
    "\n",
    "print(\"Status code: \", response.status_code)\n",
    "print(\"Response content: \", response.json())\n",
    "\n",
    "\n",
    "# Print the prediction"
   ]
  },
  {
   "cell_type": "code",
   "execution_count": 8,
   "metadata": {},
   "outputs": [
    {
     "name": "stdout",
     "output_type": "stream",
     "text": [
      "Status code:  200\n",
      "Response content:  4.1\n"
     ]
    }
   ],
   "source": [
    "#get the model dataset version:\n",
    "\n",
    "response = requests.get('http://16.170.219.216/version')\n",
    "#response = requests.get('http://127.0.0.1:5001/version')\n",
    "print(\"Status code: \", response.status_code)\n",
    "print(\"Response content: \", response.json())"
   ]
  },
  {
   "cell_type": "code",
   "execution_count": 5,
   "metadata": {},
   "outputs": [
    {
     "name": "stdout",
     "output_type": "stream",
     "text": [
      "Status code:  200\n",
      "Response content:  {'message': 'Model already in use.'}\n"
     ]
    }
   ],
   "source": [
    "model_id = \"450ae60519ee43fda2402ae292be69d4\"\n",
    "\n",
    "# Create data for the POST request\n",
    "data = {\n",
    "    \"model_id\": model_id\n",
    "}\n",
    "\n",
    "\n",
    "# Send a POST request to the Flask app on the EC2 instance\n",
    "response = requests.post('http://16.170.219.216/new_model', data=json.dumps(data), headers={'Content-Type': 'application/json'})\n",
    "\n",
    "#local testing start the app on local first\n",
    "#response = requests.post('http://127.0.0.1:5001/new_model', data=json.dumps(data), headers={'Content-Type': 'application/json'})\n",
    "\n",
    "print(\"Status code: \", response.status_code)\n",
    "print(\"Response content: \", response.json())"
   ]
  }
 ],
 "metadata": {
  "kernelspec": {
   "display_name": "py10",
   "language": "python",
   "name": "python3"
  },
  "language_info": {
   "codemirror_mode": {
    "name": "ipython",
    "version": 3
   },
   "file_extension": ".py",
   "mimetype": "text/x-python",
   "name": "python",
   "nbconvert_exporter": "python",
   "pygments_lexer": "ipython3",
   "version": "3.10.12"
  },
  "orig_nbformat": 4
 },
 "nbformat": 4,
 "nbformat_minor": 2
}
